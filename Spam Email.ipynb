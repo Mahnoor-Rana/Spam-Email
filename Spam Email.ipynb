{
 "cells": [
  {
   "cell_type": "code",
   "execution_count": null,
   "id": "78b27468",
   "metadata": {},
   "outputs": [],
   "source": [
    "import pandas as pd \n",
    "import numpy as np \n",
    "import glob\n",
    "import os"
   ]
  },
  {
   "cell_type": "code",
   "execution_count": null,
   "id": "fe37af15",
   "metadata": {},
   "outputs": [],
   "source": [
    "df_ham = pd.read_csv('email file/ham/0001.1999-12-10.farmer.ham.txt',delimiter='\\t', header = None , names=['Email'])\n"
   ]
  },
  {
   "cell_type": "code",
   "execution_count": null,
   "id": "6566abc4",
   "metadata": {},
   "outputs": [],
   "source": [
    "spam_file = 'email file/spam'\n",
    "spam = []\n",
    "\n",
    "# create dataframe\n",
    "spam = [pd.read_fwf(file,delimiter='\\t', names=['Email','spam'],encoding='unicode_escape') for file in glob.glob(os.path.join(spam_file,'*txt'))]\n",
    "spam_df = pd.concat(spam)"
   ]
  },
  {
   "cell_type": "code",
   "execution_count": null,
   "id": "08898f62",
   "metadata": {},
   "outputs": [],
   "source": [
    "spam_df"
   ]
  },
  {
   "cell_type": "code",
   "execution_count": null,
   "id": "dcb34f34",
   "metadata": {},
   "outputs": [],
   "source": [
    "sm = []\n",
    "for i in range(398489 ):\n",
    "    sm.append('1')\n",
    "print(sm)"
   ]
  },
  {
   "cell_type": "code",
   "execution_count": null,
   "id": "094c18d0",
   "metadata": {},
   "outputs": [],
   "source": [
    "spam_email = pd.Series(sm)\n",
    "spam_df['spam'] = spam_email"
   ]
  },
  {
   "cell_type": "code",
   "execution_count": null,
   "id": "a1365c9d",
   "metadata": {},
   "outputs": [],
   "source": [
    "ham_df"
   ]
  },
  {
   "cell_type": "code",
   "execution_count": null,
   "id": "199af071",
   "metadata": {},
   "outputs": [],
   "source": [
    "hm = []\n",
    "for i in range(439897 ):\n",
    "    hm.append('0')\n",
    "print(hm)"
   ]
  },
  {
   "cell_type": "code",
   "execution_count": null,
   "id": "9e81b6f8",
   "metadata": {},
   "outputs": [],
   "source": [
    "ham_email = pd.Series(hm)\n",
    "ham_df['ham'] = ham_email"
   ]
  },
  {
   "cell_type": "markdown",
   "id": "31561fe4",
   "metadata": {},
   "source": [
    "## Merging data"
   ]
  },
  {
   "cell_type": "code",
   "execution_count": null,
   "id": "9b639ea6",
   "metadata": {},
   "outputs": [],
   "source": [
    "df_merge = pd.merge(spam_df,ham_df,on ='Email', how ='outer')\n",
    "df_merge"
   ]
  },
  {
   "cell_type": "code",
   "execution_count": null,
   "id": "88abf385",
   "metadata": {},
   "outputs": [],
   "source": [
    "df_merge.duplicated()"
   ]
  },
  {
   "cell_type": "code",
   "execution_count": null,
   "id": "03f2b856",
   "metadata": {},
   "outputs": [],
   "source": [
    "df_merge.isnull().sum()"
   ]
  },
  {
   "cell_type": "code",
   "execution_count": null,
   "id": "42d61af0",
   "metadata": {},
   "outputs": [],
   "source": [
    "df_merge= df_merge.fillna(0)"
   ]
  },
  {
   "cell_type": "code",
   "execution_count": null,
   "id": "15de3393",
   "metadata": {},
   "outputs": [],
   "source": [
    "df_merge.value_counts()"
   ]
  },
  {
   "cell_type": "code",
   "execution_count": null,
   "id": "fea32315",
   "metadata": {},
   "outputs": [],
   "source": [
    "df_merge.isnull().sum()"
   ]
  },
  {
   "cell_type": "markdown",
   "id": "1f4d6c7f",
   "metadata": {},
   "source": [
    "## Shuffling dataset"
   ]
  },
  {
   "cell_type": "code",
   "execution_count": null,
   "id": "fde08b56",
   "metadata": {},
   "outputs": [],
   "source": [
    "df_merge = df_merge.sample(frac=1)\n",
    "df_merge.head()"
   ]
  },
  {
   "cell_type": "code",
   "execution_count": null,
   "id": "feda62cb",
   "metadata": {},
   "outputs": [],
   "source": [
    "df_merge.shape"
   ]
  },
  {
   "cell_type": "code",
   "execution_count": null,
   "id": "396fba37",
   "metadata": {},
   "outputs": [],
   "source": [
    "df_merge.info()"
   ]
  },
  {
   "cell_type": "code",
   "execution_count": null,
   "id": "7c3e9829",
   "metadata": {},
   "outputs": [],
   "source": [
    "df_merge.describe()"
   ]
  },
  {
   "cell_type": "code",
   "execution_count": null,
   "id": "8fe84a9c",
   "metadata": {},
   "outputs": [],
   "source": [
    "df_label=df_merge.copy()\n",
    "df_label['spam'] = df_label['spam'].astype(int)"
   ]
  },
  {
   "cell_type": "code",
   "execution_count": null,
   "id": "fd038f54",
   "metadata": {},
   "outputs": [],
   "source": [
    "df_label['spam'].dtype"
   ]
  },
  {
   "cell_type": "code",
   "execution_count": null,
   "id": "58c0face",
   "metadata": {},
   "outputs": [],
   "source": [
    "df_label= df_label.drop(['ham'],axis = 1)\n",
    "df_label.head()"
   ]
  },
  {
   "cell_type": "code",
   "execution_count": null,
   "id": "6df98f10",
   "metadata": {},
   "outputs": [],
   "source": [
    "df_label = df_label.reset_index()\n",
    "df_label = df_label.drop(columns=['index'], axis = 1)"
   ]
  },
  {
   "cell_type": "code",
   "execution_count": null,
   "id": "fa450edb",
   "metadata": {},
   "outputs": [],
   "source": [
    "df_label.head()"
   ]
  },
  {
   "cell_type": "markdown",
   "id": "a76153d8",
   "metadata": {},
   "source": [
    "## Cleaning Text"
   ]
  },
  {
   "cell_type": "code",
   "execution_count": null,
   "id": "9468d92d",
   "metadata": {},
   "outputs": [],
   "source": [
    "# install textneat\n",
    "!pip install neattext"
   ]
  },
  {
   "cell_type": "code",
   "execution_count": null,
   "id": "a7dc85bb",
   "metadata": {},
   "outputs": [],
   "source": [
    "import neattext as nt"
   ]
  },
  {
   "cell_type": "code",
   "execution_count": null,
   "id": "28761fea",
   "metadata": {},
   "outputs": [],
   "source": [
    "df = nt.TextFrame(text=df_label)\n",
    "df.describe"
   ]
  },
  {
   "cell_type": "markdown",
   "id": "e7603a16",
   "metadata": {},
   "source": [
    "## Remove Hashtags"
   ]
  },
  {
   "cell_type": "code",
   "execution_count": null,
   "id": "7d5fdbc0",
   "metadata": {},
   "outputs": [],
   "source": [
    "df_label['Email'] = df_label['Email'].apply(nt.remove_hashtags)"
   ]
  },
  {
   "cell_type": "markdown",
   "id": "5071992a",
   "metadata": {},
   "source": [
    "## Remove Punctuations"
   ]
  },
  {
   "cell_type": "code",
   "execution_count": null,
   "id": "dd574731",
   "metadata": {},
   "outputs": [],
   "source": [
    "df_label['Email'] = df_label['Email'].apply(nt.remove_puncts)"
   ]
  },
  {
   "cell_type": "code",
   "execution_count": null,
   "id": "e9f7ba79",
   "metadata": {},
   "outputs": [],
   "source": [
    "df_label['Email'] = df_label['Email'].apply(nt.remove_numbers)"
   ]
  },
  {
   "cell_type": "code",
   "execution_count": null,
   "id": "486522f8",
   "metadata": {},
   "outputs": [],
   "source": [
    "df_label['Email'] = df_label['Email'].apply(nt.remove_dates)"
   ]
  },
  {
   "cell_type": "code",
   "execution_count": null,
   "id": "c9a56b29",
   "metadata": {},
   "outputs": [],
   "source": [
    "df_label['Email'] = df_label['Email'].apply(nt.remove_special_characters)"
   ]
  },
  {
   "cell_type": "code",
   "execution_count": null,
   "id": "e67d7796",
   "metadata": {},
   "outputs": [],
   "source": [
    "df_label['Email'] = df_label['Email'].apply(nt.remove_dates)"
   ]
  },
  {
   "cell_type": "code",
   "execution_count": null,
   "id": "0216001e",
   "metadata": {},
   "outputs": [],
   "source": [
    "df_label['Email'] = df_label['Email'].apply(nt.remove_bad_quotes)"
   ]
  },
  {
   "cell_type": "code",
   "execution_count": null,
   "id": "5614669f",
   "metadata": {},
   "outputs": [],
   "source": [
    "df_label['Email'] = df_label['Email'].apply(nt.remove_urls)"
   ]
  },
  {
   "cell_type": "code",
   "execution_count": null,
   "id": "bab71f6c",
   "metadata": {},
   "outputs": [],
   "source": [
    "df_label['Email'] = df_label['Email'].apply(nt.remove_stopwords)"
   ]
  },
  {
   "cell_type": "markdown",
   "id": "10dee8f2",
   "metadata": {},
   "source": [
    "## Tokenization"
   ]
  },
  {
   "cell_type": "code",
   "execution_count": null,
   "id": "0b3a1b70",
   "metadata": {},
   "outputs": [],
   "source": [
    "import nltk"
   ]
  },
  {
   "cell_type": "code",
   "execution_count": null,
   "id": "49a9c88e",
   "metadata": {},
   "outputs": [],
   "source": [
    "#df_label['Email'] = df_label['Email'].apply(nltk.sent_tokenize)"
   ]
  },
  {
   "cell_type": "code",
   "execution_count": null,
   "id": "8678a648",
   "metadata": {},
   "outputs": [],
   "source": [
    "#df_label['Email']"
   ]
  },
  {
   "cell_type": "code",
   "execution_count": null,
   "id": "e68e45c5",
   "metadata": {},
   "outputs": [],
   "source": [
    "from sklearn.model_selection import train_test_split"
   ]
  },
  {
   "cell_type": "code",
   "execution_count": null,
   "id": "9456884d",
   "metadata": {},
   "outputs": [],
   "source": [
    "X = df_label.drop(['spam'],axis = 1)\n",
    "y = df_label['spam']"
   ]
  },
  {
   "cell_type": "markdown",
   "id": "02f707b6",
   "metadata": {},
   "source": [
    "## Linear SVC"
   ]
  },
  {
   "cell_type": "code",
   "execution_count": null,
   "id": "401b7f14",
   "metadata": {},
   "outputs": [],
   "source": [
    "from sklearn.svm import LinearSVC"
   ]
  },
  {
   "cell_type": "code",
   "execution_count": null,
   "id": "8138d8bf",
   "metadata": {},
   "outputs": [],
   "source": [
    "X_train, X_test,y_train,  y_test = train_test_split(X[\"Email\"],y ,test_size=0.2)"
   ]
  },
  {
   "cell_type": "code",
   "execution_count": null,
   "id": "81281d71",
   "metadata": {},
   "outputs": [],
   "source": [
    "print(X_train.shape, X_test.shape,y_train.shape,y_test.shape)"
   ]
  },
  {
   "cell_type": "code",
   "execution_count": null,
   "id": "bfb4b391",
   "metadata": {},
   "outputs": [],
   "source": [
    "# first we have to convert text into numbers by using count vectorizer\n",
    "from sklearn.feature_extraction.text import CountVectorizer\n"
   ]
  },
  {
   "cell_type": "code",
   "execution_count": null,
   "id": "adf8e8b3",
   "metadata": {},
   "outputs": [],
   "source": [
    "from sklearn.feature_extraction.text import TfidfTransformer"
   ]
  },
  {
   "cell_type": "code",
   "execution_count": null,
   "id": "346d9687",
   "metadata": {},
   "outputs": [],
   "source": [
    "cv = CountVectorizer()\n",
    "x = cv.fit_transform(X_train)\n"
   ]
  },
  {
   "cell_type": "code",
   "execution_count": null,
   "id": "1081bb46",
   "metadata": {},
   "outputs": [],
   "source": [
    "x"
   ]
  },
  {
   "cell_type": "code",
   "execution_count": null,
   "id": "fa3d8c6e",
   "metadata": {},
   "outputs": [],
   "source": [
    "tfid = TfidfTransformer(smooth_idf=True)"
   ]
  },
  {
   "cell_type": "code",
   "execution_count": null,
   "id": "ed23f62e",
   "metadata": {},
   "outputs": [],
   "source": [
    "from sklearn.feature_extraction.text import TfidfTransformer\n",
    "from sklearn.feature_extraction.text import CountVectorizer"
   ]
  },
  {
   "cell_type": "code",
   "execution_count": null,
   "id": "f574da85",
   "metadata": {},
   "outputs": [],
   "source": [
    "tf_transformer = TfidfTransformer().fit(x)\n",
    "train_X_transformed = tf_transformer.transform(x)\n"
   ]
  },
  {
   "cell_type": "code",
   "execution_count": null,
   "id": "b9230168",
   "metadata": {},
   "outputs": [],
   "source": [
    "#cv = CountVectorizer()\n",
    "z= cv.transform(X_test)\n"
   ]
  },
  {
   "cell_type": "code",
   "execution_count": null,
   "id": "130be10b",
   "metadata": {},
   "outputs": [],
   "source": [
    "# z for test\n",
    "tf_transformer_test = TfidfTransformer().fit(z)\n",
    "test_X_transformed = tf_transformer_test.transform(z)"
   ]
  },
  {
   "cell_type": "code",
   "execution_count": null,
   "id": "58d94623",
   "metadata": {},
   "outputs": [],
   "source": [
    "svc = LinearSVC()"
   ]
  },
  {
   "cell_type": "code",
   "execution_count": null,
   "id": "ef6b9697",
   "metadata": {},
   "outputs": [],
   "source": [
    "svc.fit(train_X_transformed,y_train)"
   ]
  },
  {
   "cell_type": "markdown",
   "id": "98011110",
   "metadata": {},
   "source": [
    "## ACCURACY"
   ]
  },
  {
   "cell_type": "code",
   "execution_count": null,
   "id": "ea51c62c",
   "metadata": {},
   "outputs": [],
   "source": [
    "svc.score(test_X_transformed,y_test)*100"
   ]
  },
  {
   "cell_type": "markdown",
   "id": "6b403f33",
   "metadata": {},
   "source": [
    "## SVC"
   ]
  },
  {
   "cell_type": "code",
   "execution_count": null,
   "id": "62950455",
   "metadata": {},
   "outputs": [],
   "source": [
    "from sklearn.svm import SVC"
   ]
  },
  {
   "cell_type": "code",
   "execution_count": null,
   "id": "d19787dd",
   "metadata": {},
   "outputs": [],
   "source": [
    "svc_1 = SVC()"
   ]
  },
  {
   "cell_type": "markdown",
   "id": "71b6bc04",
   "metadata": {},
   "source": [
    "## ACCURACY"
   ]
  },
  {
   "cell_type": "code",
   "execution_count": null,
   "id": "51dfbcc0",
   "metadata": {},
   "outputs": [],
   "source": [
    "svc_1.fit(train_X_transformed,y_train)"
   ]
  },
  {
   "cell_type": "code",
   "execution_count": null,
   "id": "a95db10b",
   "metadata": {},
   "outputs": [],
   "source": [
    "svc_1.score(test_X_transformed,y_test)*100"
   ]
  },
  {
   "cell_type": "markdown",
   "id": "09c5a110",
   "metadata": {},
   "source": [
    "## RANDOM FOREST CLASSIFIER"
   ]
  },
  {
   "cell_type": "code",
   "execution_count": null,
   "id": "195a7645",
   "metadata": {},
   "outputs": [],
   "source": [
    "from sklearn.ensemble import RandomForestClassifier"
   ]
  },
  {
   "cell_type": "code",
   "execution_count": null,
   "id": "ddda8c6f",
   "metadata": {},
   "outputs": [],
   "source": [
    "rf = RandomForestClassifier()"
   ]
  },
  {
   "cell_type": "markdown",
   "id": "4b0b6ef4",
   "metadata": {},
   "source": [
    "## ACCURACY"
   ]
  },
  {
   "cell_type": "code",
   "execution_count": null,
   "id": "42b76968",
   "metadata": {},
   "outputs": [],
   "source": [
    "rf.fit(train_X_transformed,y_train)"
   ]
  },
  {
   "cell_type": "code",
   "execution_count": null,
   "id": "7aaed4fa",
   "metadata": {},
   "outputs": [],
   "source": [
    "rf.score(test_X_transformed,y_test)*100"
   ]
  },
  {
   "cell_type": "markdown",
   "id": "f975eefe",
   "metadata": {},
   "source": [
    "## MultinomialNB"
   ]
  },
  {
   "cell_type": "code",
   "execution_count": null,
   "id": "65bb7c8c",
   "metadata": {},
   "outputs": [],
   "source": [
    "from sklearn.navies import MultinomialNB"
   ]
  },
  {
   "cell_type": "code",
   "execution_count": null,
   "id": "c9c78b81",
   "metadata": {},
   "outputs": [],
   "source": [
    "mlb =MultinomialNB()"
   ]
  },
  {
   "cell_type": "markdown",
   "id": "eb272573",
   "metadata": {},
   "source": [
    "## ACCURACY"
   ]
  },
  {
   "cell_type": "code",
   "execution_count": null,
   "id": "12600d5c",
   "metadata": {},
   "outputs": [],
   "source": [
    "mlb.fit(train_X_transformed,y_train)"
   ]
  },
  {
   "cell_type": "code",
   "execution_count": null,
   "id": "984b18ab",
   "metadata": {},
   "outputs": [],
   "source": [
    "mlb.score(test_X_transformed,y_test)*100"
   ]
  },
  {
   "cell_type": "code",
   "execution_count": null,
   "id": "71a5822f",
   "metadata": {},
   "outputs": [],
   "source": []
  },
  {
   "cell_type": "code",
   "execution_count": null,
   "id": "226714ae",
   "metadata": {},
   "outputs": [],
   "source": []
  },
  {
   "cell_type": "code",
   "execution_count": null,
   "id": "a35d64f0",
   "metadata": {},
   "outputs": [],
   "source": []
  },
  {
   "cell_type": "code",
   "execution_count": null,
   "id": "49b6a655",
   "metadata": {},
   "outputs": [],
   "source": []
  },
  {
   "cell_type": "code",
   "execution_count": null,
   "id": "6ad1adac",
   "metadata": {},
   "outputs": [],
   "source": []
  },
  {
   "cell_type": "code",
   "execution_count": null,
   "id": "6fb615d6",
   "metadata": {},
   "outputs": [],
   "source": []
  },
  {
   "cell_type": "code",
   "execution_count": null,
   "id": "e97d6ca2",
   "metadata": {},
   "outputs": [],
   "source": []
  }
 ],
 "metadata": {
  "kernelspec": {
   "display_name": "Python 3 (ipykernel)",
   "language": "python",
   "name": "python3"
  },
  "language_info": {
   "codemirror_mode": {
    "name": "ipython",
    "version": 3
   },
   "file_extension": ".py",
   "mimetype": "text/x-python",
   "name": "python",
   "nbconvert_exporter": "python",
   "pygments_lexer": "ipython3",
   "version": "3.9.13"
  }
 },
 "nbformat": 4,
 "nbformat_minor": 5
}
